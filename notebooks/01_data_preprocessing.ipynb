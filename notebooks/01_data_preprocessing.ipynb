{
 "cells": [
  {
   "cell_type": "markdown",
   "id": "767849b2",
   "metadata": {},
   "source": [
    "# 데이터 전처리\n",
    "- 1번, 2번, 3번 관련 처리"
   ]
  },
  {
   "cell_type": "code",
   "execution_count": null,
   "id": "7bd9284f",
   "metadata": {},
   "outputs": [],
   "source": [
    "# 필요한 라이브러리 임포트\n",
    "import pandas as pd\n",
    "import geopandas as gpd"
   ]
  }
 ],
 "metadata": {
  "language_info": {
   "name": "python"
  }
 },
 "nbformat": 4,
 "nbformat_minor": 5
}
