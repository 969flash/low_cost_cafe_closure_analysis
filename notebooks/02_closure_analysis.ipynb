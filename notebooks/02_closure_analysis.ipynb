{
 "cells": [
  {
   "cell_type": "markdown",
   "id": "53b67b12",
   "metadata": {},
   "source": [
    "# 폐업 원인 분석\n",
    "- 4번, 5번, 6번, 7번 관련 분석"
   ]
  },
  {
   "cell_type": "code",
   "execution_count": null,
   "id": "d0dbf2de",
   "metadata": {},
   "outputs": [],
   "source": [
    "# 필요한 라이브러리 임포트\n",
    "import pandas as pd\n",
    "import plotly.express as px\n",
    "import statsmodels.api as sm"
   ]
  }
 ],
 "metadata": {
  "language_info": {
   "name": "python"
  }
 },
 "nbformat": 4,
 "nbformat_minor": 5
}
